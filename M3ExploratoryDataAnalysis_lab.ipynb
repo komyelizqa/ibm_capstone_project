{
  "cells": [
    {
      "cell_type": "markdown",
      "metadata": {
        "id": "5NDUWfyeyUpd"
      },
      "source": [
        "<p style=\"text-align:center\">\n",
        "    <a href=\"https://skills.network/?utm_medium=Exinfluencer&utm_source=Exinfluencer&utm_content=000026UJ&utm_term=10006555&utm_id=NA-SkillsNetwork-Channel-SkillsNetworkCoursesIBMDA0321ENSkillsNetwork928-2023-01-01\">\n",
        "    <img src=\"https://cf-courses-data.s3.us.cloud-object-storage.appdomain.cloud/assets/logos/SN_web_lightmode.png\" width=\"200\" alt=\"Skills Network Logo\"  />\n",
        "    </a>\n",
        "</p>\n"
      ]
    },
    {
      "cell_type": "markdown",
      "metadata": {
        "id": "gMByzIq8yUpg"
      },
      "source": [
        "# **Exploratory Data Analysis Lab**\n"
      ]
    },
    {
      "cell_type": "markdown",
      "metadata": {
        "id": "TDKWL2I6yUpg"
      },
      "source": [
        "Estimated time needed: **30** minutes\n"
      ]
    },
    {
      "cell_type": "markdown",
      "metadata": {
        "id": "9avRNjoAyUph"
      },
      "source": [
        "In this module you get to work with the cleaned dataset from the previous module.\n",
        "\n",
        "In this assignment you will perform the task of exploratory data analysis.\n",
        "You will find out the distribution of data, presence of outliers and also determine the correlation between different columns in the dataset.\n"
      ]
    },
    {
      "cell_type": "markdown",
      "metadata": {
        "id": "CgNQlqDRyUph"
      },
      "source": [
        "## Objectives\n"
      ]
    },
    {
      "cell_type": "markdown",
      "metadata": {
        "id": "EF1cNF3ByUph"
      },
      "source": [
        "In this lab you will perform the following:\n"
      ]
    },
    {
      "cell_type": "markdown",
      "metadata": {
        "id": "vssxFw7_yUph"
      },
      "source": [
        "-   Identify the distribution of data in the dataset.\n",
        "\n",
        "-   Identify outliers in the dataset.\n",
        "\n",
        "-   Remove outliers from the dataset.\n",
        "\n",
        "-   Identify correlation between features in the dataset.\n"
      ]
    },
    {
      "cell_type": "markdown",
      "metadata": {
        "id": "BCZkT4Y1yUpi"
      },
      "source": [
        "* * *\n"
      ]
    },
    {
      "cell_type": "markdown",
      "metadata": {
        "id": "MY4uGR-5yUpi"
      },
      "source": [
        "## Hands on Lab\n"
      ]
    },
    {
      "cell_type": "markdown",
      "metadata": {
        "id": "4n6xsSXHyUpi"
      },
      "source": [
        "Import the pandas module.\n"
      ]
    },
    {
      "cell_type": "code",
      "execution_count": 1,
      "metadata": {
        "id": "MHqUydzeyUpi"
      },
      "outputs": [],
      "source": [
        "import pandas as pd"
      ]
    },
    {
      "cell_type": "markdown",
      "metadata": {
        "id": "TTl9goUByUpj"
      },
      "source": [
        "Load the dataset into a dataframe.\n"
      ]
    },
    {
      "cell_type": "code",
      "execution_count": 2,
      "metadata": {
        "id": "NF_LmCyGyUpj"
      },
      "outputs": [],
      "source": [
        "df = pd.read_csv(\"https://cf-courses-data.s3.us.cloud-object-storage.appdomain.cloud/IBM-DA0321EN-SkillsNetwork/LargeData/m2_survey_data.csv\")"
      ]
    },
    {
      "cell_type": "markdown",
      "metadata": {
        "id": "4LQgkNGGyUpj"
      },
      "source": [
        "## Distribution\n"
      ]
    },
    {
      "cell_type": "markdown",
      "metadata": {
        "id": "wFqluT00yUpj"
      },
      "source": [
        "### Determine how the data is distributed\n"
      ]
    },
    {
      "cell_type": "markdown",
      "metadata": {
        "id": "OesAWL2CyUpj"
      },
      "source": [
        "The column `ConvertedComp` contains Salary converted to annual USD salaries using the exchange rate on 2019-02-01.\n",
        "\n",
        "This assumes 12 working months and 50 working weeks.\n"
      ]
    },
    {
      "cell_type": "markdown",
      "metadata": {
        "id": "vZLGeqhXyUpj"
      },
      "source": [
        "Plot the distribution curve for the column `ConvertedComp`.\n"
      ]
    },
    {
      "cell_type": "code",
      "execution_count": 3,
      "metadata": {
        "id": "gt9H30n2yUpk"
      },
      "outputs": [],
      "source": [
        "# your code goes here\n",
        "import matplotlib.pyplot as plt\n",
        "import seaborn as sns\n",
        "import numpy as np\n",
        "%matplotlib inline"
      ]
    },
    {
      "cell_type": "code",
      "source": [
        "df.dropna(subset=[\"ConvertedComp\"], axis=0, inplace=True)\n",
        "df['ConvertedComp'].value_counts().head(20)"
      ],
      "metadata": {
        "colab": {
          "base_uri": "https://localhost:8080/"
        },
        "id": "N6webzF5ya-x",
        "outputId": "dd62bb67-8a92-4246-989f-17250c8360a7"
      },
      "execution_count": 4,
      "outputs": [
        {
          "output_type": "execute_result",
          "data": {
            "text/plain": [
              "ConvertedComp\n",
              "2000000.0    138\n",
              "1000000.0    105\n",
              "100000.0      99\n",
              "150000.0      92\n",
              "120000.0      86\n",
              "110000.0      83\n",
              "70000.0       81\n",
              "130000.0      77\n",
              "90000.0       77\n",
              "80000.0       73\n",
              "68745.0       71\n",
              "140000.0      68\n",
              "57287.0       68\n",
              "85000.0       67\n",
              "125000.0      65\n",
              "60000.0       64\n",
              "54996.0       62\n",
              "105000.0      58\n",
              "95000.0       58\n",
              "45830.0       55\n",
              "Name: count, dtype: int64"
            ]
          },
          "metadata": {},
          "execution_count": 4
        }
      ]
    },
    {
      "cell_type": "code",
      "source": [
        "# your code goes here\n",
        "plt.figure(figsize=(12, 7))\n",
        "\n",
        "sns.distplot(df['ConvertedComp'], hist=False, color=\"r\")\n",
        "\n",
        "plt.title('Distribution of Developers\\' Annual Salary in USD')\n",
        "plt.xlabel('Salary converted to annual USD (exchange rate 2019-02-01)')\n",
        "plt.ylabel('Proportion of Respondents')\n",
        "\n",
        "plt.show()\n",
        "plt.close()"
      ],
      "metadata": {
        "colab": {
          "base_uri": "https://localhost:8080/",
          "height": 832
        },
        "id": "hbOozqqhywZ_",
        "outputId": "b7982fe5-a70b-45ca-beb2-536d045b4712"
      },
      "execution_count": 8,
      "outputs": [
        {
          "output_type": "stream",
          "name": "stderr",
          "text": [
            "<ipython-input-8-09b2d9208e0c>:4: UserWarning: \n",
            "\n",
            "`distplot` is a deprecated function and will be removed in seaborn v0.14.0.\n",
            "\n",
            "Please adapt your code to use either `displot` (a figure-level function with\n",
            "similar flexibility) or `kdeplot` (an axes-level function for kernel density plots).\n",
            "\n",
            "For a guide to updating your code to use the new functions, please see\n",
            "https://gist.github.com/mwaskom/de44147ed2974457ad6372750bbe5751\n",
            "\n",
            "  sns.distplot(df['ConvertedComp'], hist=False, color=\"r\")\n"
          ]
        },
        {
          "output_type": "display_data",
          "data": {
            "text/plain": [
              "<Figure size 1200x700 with 1 Axes>"
            ],
            "image/png": "[encoded data removed]"
          },
          "metadata": {}
        }
      ]
    },
    {
      "cell_type": "markdown",
      "metadata": {
        "id": "U38aKIAyyUpk"
      },
      "source": [
        "Plot the histogram for the column `ConvertedComp`.\n"
      ]
    },
    {
      "cell_type": "code",
      "execution_count": 9,
      "metadata": {
        "colab": {
          "base_uri": "https://localhost:8080/",
          "height": 539
        },
        "id": "V6EIluAMyUpk",
        "outputId": "fd2f672d-821e-41c7-c401-3bed486e45f0"
      },
      "outputs": [
        {
          "output_type": "stream",
          "name": "stdout",
          "text": [
            "[9659  238  115  125   99  131   34   15   15  151]\n",
            "[      0.  200000.  400000.  600000.  800000. 1000000. 1200000. 1400000.\n",
            " 1600000. 1800000. 2000000.]\n"
          ]
        },
        {
          "output_type": "display_data",
          "data": {
            "text/plain": [
              "<Figure size 2000x500 with 1 Axes>"
            ],
            "image/png": "[encoded data removed]"
          },
          "metadata": {}
        }
      ],
      "source": [
        "# your code goes here\n",
        "count, bin_edges = np.histogram(df['ConvertedComp'])\n",
        "\n",
        "print(count) # frequency count\n",
        "print(bin_edges) # bin ranges, default = 10 bins\n",
        "df['ConvertedComp'].plot(kind='hist', figsize=(20, 5), xticks=bin_edges)\n",
        "\n",
        "plt.title('Histogram of distribution of Developers\\' Annual Salary in USD') # add a title to the histogram\n",
        "plt.ylabel('Number of Respondents') # add y-label\n",
        "plt.xlabel('Annual Salary in USD') # add x-label\n",
        "\n",
        "plt.show()"
      ]
    },
    {
      "cell_type": "markdown",
      "metadata": {
        "id": "aGeVuiztyUpk"
      },
      "source": [
        "What is the median of the column `ConvertedComp`?\n"
      ]
    },
    {
      "cell_type": "code",
      "execution_count": 10,
      "metadata": {
        "colab": {
          "base_uri": "https://localhost:8080/"
        },
        "id": "E9wtkYsoyUpk",
        "outputId": "b6858ccb-02e1-4c59-f766-f12f10fde7cf"
      },
      "outputs": [
        {
          "output_type": "execute_result",
          "data": {
            "text/plain": [
              "57745.0"
            ]
          },
          "metadata": {},
          "execution_count": 10
        }
      ],
      "source": [
        "# your code goes here\n",
        "df['ConvertedComp'].median()"
      ]
    },
    {
      "cell_type": "markdown",
      "metadata": {
        "id": "Q4BooPLWyUpk"
      },
      "source": [
        "How many responders identified themselves only as a **Man**?\n"
      ]
    },
    {
      "cell_type": "code",
      "execution_count": 11,
      "metadata": {
        "colab": {
          "base_uri": "https://localhost:8080/"
        },
        "id": "E_GmxHRTyUpk",
        "outputId": "3b193cae-d264-49e1-904d-1752e6b93836"
      },
      "outputs": [
        {
          "output_type": "execute_result",
          "data": {
            "text/plain": [
              "9725"
            ]
          },
          "metadata": {},
          "execution_count": 11
        }
      ],
      "source": [
        "# your code goes here\n",
        "df[df['Gender'] == 'Man'].shape[0]"
      ]
    },
    {
      "cell_type": "markdown",
      "metadata": {
        "id": "iXsqPHmXyUpk"
      },
      "source": [
        "Find out the  median ConvertedComp of responders identified themselves only as a **Woman**?\n"
      ]
    },
    {
      "cell_type": "code",
      "execution_count": 12,
      "metadata": {
        "colab": {
          "base_uri": "https://localhost:8080/"
        },
        "id": "c8T4EhZfyUpk",
        "outputId": "003cf44e-ca20-4353-e68f-bb8983f3196e"
      },
      "outputs": [
        {
          "output_type": "execute_result",
          "data": {
            "text/plain": [
              "57708.0"
            ]
          },
          "metadata": {},
          "execution_count": 12
        }
      ],
      "source": [
        "# your code goes here\n",
        "df['ConvertedComp'][df['Gender'] == 'Woman'].median()"
      ]
    },
    {
      "cell_type": "markdown",
      "metadata": {
        "id": "326lwWq5yUpk"
      },
      "source": [
        "Give the five number summary for the column `Age`?\n"
      ]
    },
    {
      "cell_type": "markdown",
      "metadata": {
        "id": "R2bP4jKyyUpk"
      },
      "source": [
        "**Double click here for hint**.\n",
        "\n",
        "<!--\n",
        "min,q1,median,q3,max of a column are its five number summary.\n",
        "-->\n"
      ]
    },
    {
      "cell_type": "code",
      "execution_count": 13,
      "metadata": {
        "colab": {
          "base_uri": "https://localhost:8080/"
        },
        "id": "KwUGNRutyUpk",
        "outputId": "264156b2-2315-4de6-8290-e23de44b0396"
      },
      "outputs": [
        {
          "output_type": "execute_result",
          "data": {
            "text/plain": [
              "count    10354.000000\n",
              "mean        30.833040\n",
              "std          7.389983\n",
              "min         16.000000\n",
              "25%         25.000000\n",
              "50%         29.000000\n",
              "75%         35.000000\n",
              "max         99.000000\n",
              "Name: Age, dtype: float64"
            ]
          },
          "metadata": {},
          "execution_count": 13
        }
      ],
      "source": [
        "# your code goes here\n",
        "df.dropna(subset=[\"Age\"], axis=0, inplace=True)\n",
        "df['Age'].describe()"
      ]
    },
    {
      "cell_type": "markdown",
      "metadata": {
        "id": "pWSNNNsvyUpl"
      },
      "source": [
        "Plot a histogram of the column `Age`.\n"
      ]
    },
    {
      "cell_type": "code",
      "execution_count": 15,
      "metadata": {
        "colab": {
          "base_uri": "https://localhost:8080/",
          "height": 676
        },
        "id": "0e-nphDDyUpl",
        "outputId": "e35e9a91-2142-403a-f1b3-c383c7ab25d0"
      },
      "outputs": [
        {
          "output_type": "stream",
          "name": "stdout",
          "text": [
            "[1929 4968 2406  788  210   48    4    0    0    1]\n",
            "[16.  24.3 32.6 40.9 49.2 57.5 65.8 74.1 82.4 90.7 99. ]\n"
          ]
        },
        {
          "output_type": "display_data",
          "data": {
            "text/plain": [
              "<Figure size 1200x700 with 1 Axes>"
            ],
            "image/png": "[encoded data removed]"
          },
          "metadata": {}
        }
      ],
      "source": [
        "# your code goes here\n",
        "count, bin_edges = np.histogram(df['Age'])\n",
        "print(count)\n",
        "print(bin_edges)\n",
        "df['Age'].plot(kind='hist', figsize=(12,7), xticks=bin_edges)\n",
        "plt.title(\"Histogram of Developers\\' Age WorldWide\")\n",
        "plt.ylabel(\"Number of Respondents\")\n",
        "plt.xlabel(\"Age\")\n",
        "\n",
        "plt.show()\n"
      ]
    },
    {
      "cell_type": "markdown",
      "metadata": {
        "id": "gokIuxaTyUpl"
      },
      "source": [
        "## Outliers\n"
      ]
    },
    {
      "cell_type": "markdown",
      "metadata": {
        "id": "IPD7YaXFyUpl"
      },
      "source": [
        "### Finding outliers\n"
      ]
    },
    {
      "cell_type": "markdown",
      "metadata": {
        "id": "9JTDVnbCyUpl"
      },
      "source": [
        "Find out if outliers exist in the column `ConvertedComp` using a box plot?\n"
      ]
    },
    {
      "cell_type": "code",
      "execution_count": 18,
      "metadata": {
        "colab": {
          "base_uri": "https://localhost:8080/",
          "height": 853
        },
        "id": "Re6ob6nGyUpl",
        "outputId": "043106d9-1b37-47f3-d25f-7ec247b5edf3"
      },
      "outputs": [
        {
          "output_type": "display_data",
          "data": {
            "text/plain": [
              "<Figure size 800x1000 with 1 Axes>"
            ],
            "image/png": "[encoded data removed]"
          },
          "metadata": {}
        }
      ],
      "source": [
        "# your code goes here\n",
        "df['ConvertedComp'].plot(kind='box', figsize=(8, 10))\n",
        "\n",
        "plt.title('Box plot of Developers\\' Annual Salary in USD')\n",
        "plt.ylabel('Number of Respondents')\n",
        "\n",
        "plt.show()"
      ]
    },
    {
      "cell_type": "markdown",
      "metadata": {
        "id": "LbqIxCnqyUpl"
      },
      "source": [
        "Find out the Inter Quartile Range for the column `ConvertedComp`.\n"
      ]
    },
    {
      "cell_type": "code",
      "execution_count": 19,
      "metadata": {
        "colab": {
          "base_uri": "https://localhost:8080/"
        },
        "id": "8rtglKIByUpl",
        "outputId": "7bf0dc24-6bfc-4433-ca62-348a7bf978c4"
      },
      "outputs": [
        {
          "output_type": "execute_result",
          "data": {
            "text/plain": [
              "count    1.035400e+04\n",
              "mean     1.313593e+05\n",
              "std      2.939787e+05\n",
              "min      0.000000e+00\n",
              "25%      2.683450e+04\n",
              "50%      5.760000e+04\n",
              "75%      1.000000e+05\n",
              "max      2.000000e+06\n",
              "Name: ConvertedComp, dtype: float64"
            ]
          },
          "metadata": {},
          "execution_count": 19
        }
      ],
      "source": [
        "df['ConvertedComp'].describe()"
      ]
    },
    {
      "cell_type": "code",
      "source": [
        "cleaned_data = df['ConvertedComp'].dropna()"
      ],
      "metadata": {
        "id": "pKc_t9nZ3rsB"
      },
      "execution_count": 23,
      "outputs": []
    },
    {
      "cell_type": "code",
      "source": [
        "Q1 = cleaned_data.quantile(0.25)\n",
        "Q3 = cleaned_data.quantile(0.75)\n",
        "IQR = Q3 - Q1\n",
        "print(f\"The Interquartile Range (IQR) for 'ConvertedComp' is {IQR}\")"
      ],
      "metadata": {
        "colab": {
          "base_uri": "https://localhost:8080/"
        },
        "id": "vuldNx3J4uaG",
        "outputId": "b96e9e41-9f99-4bfd-8f40-3afda08e409e"
      },
      "execution_count": 27,
      "outputs": [
        {
          "output_type": "stream",
          "name": "stdout",
          "text": [
            "The Interquartile Range (IQR) for 'ConvertedComp' is 73165.5\n"
          ]
        }
      ]
    },
    {
      "cell_type": "markdown",
      "metadata": {
        "id": "5K36MJzTyUpl"
      },
      "source": [
        "Find out the upper and lower bounds.\n"
      ]
    },
    {
      "cell_type": "code",
      "execution_count": 17,
      "metadata": {
        "colab": {
          "base_uri": "https://localhost:8080/"
        },
        "id": "B--8ulI_yUpl",
        "outputId": "cf07bc30-d2e2-4d51-a48b-15d9b8feba31"
      },
      "outputs": [
        {
          "output_type": "execute_result",
          "data": {
            "text/plain": [
              "count    1.035400e+04\n",
              "mean     1.313593e+05\n",
              "std      2.939787e+05\n",
              "min      0.000000e+00\n",
              "25%      2.683450e+04\n",
              "50%      5.760000e+04\n",
              "75%      1.000000e+05\n",
              "max      2.000000e+06\n",
              "Name: ConvertedComp, dtype: float64"
            ]
          },
          "metadata": {},
          "execution_count": 17
        }
      ],
      "source": [
        "# your code goes here\n",
        "df['ConvertedComp'].describe()"
      ]
    },
    {
      "cell_type": "code",
      "source": [
        "IQR = df['ConvertedComp'].describe()[6] - df['ConvertedComp'].describe()[4]\n",
        "IQR"
      ],
      "metadata": {
        "colab": {
          "base_uri": "https://localhost:8080/"
        },
        "id": "tc4xEbed1Ev0",
        "outputId": "fb9300ec-a1e8-4efa-87f1-77d90aee4787"
      },
      "execution_count": 21,
      "outputs": [
        {
          "output_type": "execute_result",
          "data": {
            "text/plain": [
              "73165.5"
            ]
          },
          "metadata": {},
          "execution_count": 21
        }
      ]
    },
    {
      "cell_type": "code",
      "source": [
        "lower_bound = Q1 - 1.5 * IQR\n",
        "upper_bound = Q3 + 1.5 * IQR\n",
        "\n",
        "print(f\"The lower bound is {lower_bound}\")\n",
        "print(f\"The upper bound is {upper_bound}\")"
      ],
      "metadata": {
        "colab": {
          "base_uri": "https://localhost:8080/"
        },
        "id": "IdaLIBVE1Nwb",
        "outputId": "9999f2b3-02ae-4564-dc8e-d1c4b21ae9be"
      },
      "execution_count": 28,
      "outputs": [
        {
          "output_type": "stream",
          "name": "stdout",
          "text": [
            "The lower bound is -82913.75\n",
            "The upper bound is 209748.25\n"
          ]
        }
      ]
    },
    {
      "cell_type": "markdown",
      "metadata": {
        "id": "BxbE6zSNyUpp"
      },
      "source": [
        "Identify how many outliers are there in the `ConvertedComp` column.\n"
      ]
    },
    {
      "cell_type": "code",
      "execution_count": 30,
      "metadata": {
        "colab": {
          "base_uri": "https://localhost:8080/"
        },
        "id": "VzOLMlfAyUpq",
        "outputId": "121bd3d5-3b9c-4fd9-9d24-d823428da077"
      },
      "outputs": [
        {
          "output_type": "execute_result",
          "data": {
            "text/plain": [
              "861"
            ]
          },
          "metadata": {},
          "execution_count": 30
        }
      ],
      "source": [
        "# your code goes here\n",
        "df[(df['ConvertedComp'] > upper_bound) | (df['ConvertedComp'] < lower_bound)].shape[0]"
      ]
    },
    {
      "cell_type": "markdown",
      "metadata": {
        "id": "K4ZASjk8yUpq"
      },
      "source": [
        "Create a new dataframe by removing the outliers from the `ConvertedComp` column.\n"
      ]
    },
    {
      "cell_type": "code",
      "execution_count": 36,
      "metadata": {
        "id": "IfGps4PSyUpq"
      },
      "outputs": [],
      "source": [
        "# your code goes here\n",
        "\n",
        "df_no_outliers = df[(df['ConvertedComp'] >= lower_bound) & (df['ConvertedComp'] <= upper_bound)]\n"
      ]
    },
    {
      "cell_type": "markdown",
      "metadata": {
        "id": "uZZk8rCZyUpq"
      },
      "source": [
        "## Correlation\n"
      ]
    },
    {
      "cell_type": "markdown",
      "metadata": {
        "id": "QwvXhFTAyUpq"
      },
      "source": [
        "### Finding correlation\n"
      ]
    },
    {
      "cell_type": "markdown",
      "metadata": {
        "id": "VhxereeeyUpq"
      },
      "source": [
        "Find the correlation between `Age` and all other numerical columns.\n"
      ]
    },
    {
      "cell_type": "code",
      "execution_count": 38,
      "metadata": {
        "colab": {
          "base_uri": "https://localhost:8080/"
        },
        "id": "Wn0uWUUgyUpr",
        "outputId": "b56c5d3e-e368-4b31-f8e2-24dc6347d3c8"
      },
      "outputs": [
        {
          "output_type": "stream",
          "name": "stdout",
          "text": [
            "Respondent       0.002180\n",
            "YearsCode        0.789414\n",
            "Age1stCode      -0.038787\n",
            "YearsCodePro     0.829951\n",
            "CompTotal        0.006337\n",
            "ConvertedComp    0.401821\n",
            "WorkWeekHrs      0.032032\n",
            "CodeRevHrs      -0.012878\n",
            "SOVisit1st      -0.371040\n",
            "Age              1.000000\n",
            "Name: Age, dtype: float64\n"
          ]
        }
      ],
      "source": [
        "# Convert all columns to numeric, setting errors='coerce' to turn non-convertibles into NaN\n",
        "df_no_outliers = df_no_outliers.apply(pd.to_numeric, errors='coerce')\n",
        "\n",
        "# Drop columns that are mostly NaN (non-numeric data)\n",
        "threshold = len(df_no_outliers) * 0.5  # Example threshold 50% of data\n",
        "df_no_outliers = df_no_outliers.dropna(thresh=threshold, axis=1)\n",
        "\n",
        "# Now try the correlation again\n",
        "correlation_matrix = df_no_outliers.corr()\n",
        "\n",
        "# Get the correlation of 'Age' with all other numerical columns\n",
        "age_correlations = correlation_matrix.loc['Age']\n",
        "\n",
        "# Print the correlations between 'Age' and all other numerical columns\n",
        "print(age_correlations)\n"
      ]
    },
    {
      "cell_type": "markdown",
      "metadata": {
        "id": "U6zXMJ62yUpr"
      },
      "source": [
        "## Authors\n"
      ]
    },
    {
      "cell_type": "markdown",
      "metadata": {
        "id": "hnOMLSoYyUpr"
      },
      "source": [
        "Ramesh Sannareddy\n"
      ]
    },
    {
      "cell_type": "markdown",
      "metadata": {
        "id": "O8v9OBGAyUpr"
      },
      "source": [
        "### Other Contributors\n"
      ]
    },
    {
      "cell_type": "markdown",
      "metadata": {
        "id": "qBVsNn93yUpr"
      },
      "source": [
        "Rav Ahuja\n"
      ]
    },
    {
      "cell_type": "markdown",
      "metadata": {
        "id": "DbCHEm3wyUpr"
      },
      "source": [
        "## Change Log\n"
      ]
    },
    {
      "cell_type": "markdown",
      "metadata": {
        "id": "flxUYwbPyUpr"
      },
      "source": [
        "| Date (YYYY-MM-DD) | Version | Changed By        | Change Description                 |\n",
        "| ----------------- | ------- | ----------------- | ---------------------------------- |\n",
        "| 2020-10-17        | 0.1     | Ramesh Sannareddy | Created initial version of the lab |\n"
      ]
    },
    {
      "cell_type": "markdown",
      "metadata": {
        "id": "PTOrMx1ryUpr"
      },
      "source": [
        " Copyright © 2020 IBM Corporation. This notebook and its source code are released under the terms of the [MIT License](https://cognitiveclass.ai/mit-license?utm_medium=Exinfluencer&utm_source=Exinfluencer&utm_content=000026UJ&utm_term=10006555&utm_id=NA-SkillsNetwork-Channel-SkillsNetworkCoursesIBMDA0321ENSkillsNetwork928-2023-01-01&cm_mmc=Email_Newsletter-_-Developer_Ed%2BTech-_-WW_WW-_-SkillsNetwork-Courses-IBM-DA0321EN-SkillsNetwork-21426264&cm_mmca1=000026UJ&cm_mmca2=10006555&cm_mmca3=M12345678&cvosrc=email.Newsletter.M12345678&cvo_campaign=000026UJ).\n"
      ]
    }
  ],
  "metadata": {
    "kernelspec": {
      "display_name": "Python",
      "language": "python",
      "name": "conda-env-python-py"
    },
    "language_info": {
      "name": ""
    },
    "colab": {
      "provenance": []
    }
  },
  "nbformat": 4,
  "nbformat_minor": 0
}